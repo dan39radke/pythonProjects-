{
 "cells": [
  {
   "cell_type": "markdown",
   "metadata": {
    "colab_type": "text",
    "id": "TdbeVzZE2kS2"
   },
   "source": [
    "## Business Applications of Python\n",
    "### Assignment V: Data Management and Manipulation\n",
    "Please complete these exercises to the best of your abilities. Please include code to invoke each of your functions to demonstrate the functionality. Write comments throughout your code to explain steps. If you run into a persistent error, please demonstrate your efforts to resolve it; search the web for the error, see if you can get closer to figuring it out. Document what you tried in order to fix the problem."
   ]
  },
  {
   "cell_type": "markdown",
   "metadata": {
    "colab_type": "text",
    "id": "d4A2DfXB2kS5"
   },
   "source": [
    "### Problem 1. Numpy Array Basics\n",
    "a.  Create an array with the following data, specify the data type as int\n",
    "```\n",
    "[[1,2,3,4,5],[6,7,8,9,10],[11,12,13,14,15],[16,17,18,19,20],[21,22,23,24,25]]\n",
    "```\n",
    "b.  Access the first and last entry of the array\n",
    "\n",
    "c.  Access the first row and the first column of the array\n",
    "\n",
    "d.  Find the mean and standard deviation of the second column"
   ]
  },
  {
   "cell_type": "code",
   "execution_count": 126,
   "metadata": {
    "colab": {},
    "colab_type": "code",
    "id": "3CizAgd12kS6"
   },
   "outputs": [
    {
     "name": "stdout",
     "output_type": "stream",
     "text": [
      "[[ 1  2  3  4  5]\n",
      " [ 6  7  8  9 10]\n",
      " [11 12 13 14 15]\n",
      " [16 17 18 19 20]\n",
      " [21 22 23 24 25]]\n",
      "\n",
      "\n",
      "1\n",
      "25\n",
      "\n",
      "\n",
      "[1 2 3 4 5]\n",
      "[21 22 23 24 25]\n",
      "\n",
      "\n",
      "Mean = 13.0 \n",
      " Standard Deviation = 7.211102550927978\n"
     ]
    }
   ],
   "source": [
    "import numpy as np\n",
    "\n",
    "array1_int = np.array([[1,2,3,4,5],[6,7,8,9,10],[11,12,13,14,15],[16,17,18,19,20],[21,22,23,24,25]],int)\n",
    "print(array1_int)\n",
    "print('\\n')\n",
    "\n",
    "print(array1_int[0,0])\n",
    "print(array1_int[-1,-1])\n",
    "print('\\n')\n",
    "\n",
    "print(array1_int[0])\n",
    "print(array1_int[-1])\n",
    "print('\\n')\n",
    "\n",
    "print('Mean =', array1_int.mean(), '\\n','Standard Deviation =', array1_int.std())\n",
    "\n",
    "# a. I imported the numpy module to use the array function.\n",
    "# b. To access the first and last entries I indexed the first and last rows and then the first and last positions\n",
    "# c. To access the first and last rows I indexed them the same as they would be in a list.\n",
    "# d. I used the same functions we used in the in-class exercise to find mean and standard deviation"
   ]
  },
  {
   "cell_type": "markdown",
   "metadata": {
    "colab_type": "text",
    "id": "1Q8Xq5gz2kS9"
   },
   "source": [
    "### Problem 2. Opperations with Numpy Arrays\n",
    "a. Slice off the outer edges of the array, that is, remove the first and last row and the first and last column.\n",
    "\n",
    "b. Use a numpy command to get the dimensions of the array\n",
    "\n",
    "c. Use another numpy command to get the number of items in the array\n",
    "\n",
    "d. Reshape the array into a  one dimensional array (1 x 25).\n",
    "\n",
    "e. Use selection to identify all even numbers in the array"
   ]
  },
  {
   "cell_type": "code",
   "execution_count": 127,
   "metadata": {
    "colab": {},
    "colab_type": "code",
    "id": "eUzLhDI42kS-"
   },
   "outputs": [
    {
     "name": "stdout",
     "output_type": "stream",
     "text": [
      "[[ 7  8  9]\n",
      " [12 13 14]\n",
      " [17 18 19]] \n",
      "\n",
      "(5, 5) \n",
      "\n",
      "25 \n",
      "\n",
      "[[ 1  2  3  4  5  6  7  8  9 10 11 12 13 14 15 16 17 18 19 20 21 22 23 24\n",
      "  25]] \n",
      "\n",
      "[[0 1 0 1 0 1 0 1 0 1 0 1 0 1 0 1 0 1 0 1 0 1 0 1 0]]\n"
     ]
    }
   ],
   "source": [
    "print(array1_int[1:-1,1:-1],'\\n')\n",
    "\n",
    "print(np.shape(array1_int),'\\n')\n",
    "\n",
    "items = (np.shape(array1_int)[0]) * (np.shape(array1_int)[1])\n",
    "print(items,'\\n')\n",
    "\n",
    "array1_int = array1_int.reshape(1,25)\n",
    "print(array1_int,'\\n')\n",
    "\n",
    "print(np.where(array1_int%2==0,1,0))\n",
    "\n",
    "# a. I sliced the second row up until the last row and then the second column up until the last column. \n",
    "# b. The shape function gives you the dimensions of the array. We learned this function in class. \n",
    "# c. I multiplied the first number in the dimensions by the second number in the dimensions. I could've used the\n",
    "#    product function we learned in class but this method also works. \n",
    "# d. I used the reshape function we learned in class. \n",
    "# e. I used the selection method we learned in class. There is an argument and then the  1 is used when\n",
    "#    the argument is true and the zero is used when it is false. "
   ]
  },
  {
   "cell_type": "markdown",
   "metadata": {
    "colab_type": "text",
    "id": "J1rmYf432kTA"
   },
   "source": [
    "### Problem 3. Random Number Generation in Numpy\n",
    "a. Generate a 3x3 array of random integers in the range of 0-9\n",
    "\n",
    "b. Generate a 100 random floats in the range of 0-1\n",
    "\n",
    "c. Generate 1000 observations from a normal distribution with mean 64 and standard deviation 2. \n",
    "\n",
    "d. **Optional** use matplotlib to draw a histogram of the data from the above. "
   ]
  },
  {
   "cell_type": "code",
   "execution_count": 148,
   "metadata": {
    "colab": {},
    "colab_type": "code",
    "id": "2irbEBgh2kTB"
   },
   "outputs": [
    {
     "data": {
      "image/png": "[encoded data removed]",
      "text/plain": [
       "<Figure size 432x288 with 1 Axes>"
      ]
     },
     "metadata": {
      "needs_background": "light"
     },
     "output_type": "display_data"
    }
   ],
   "source": [
    "a = np.random.randint(0,10,(3,3))\n",
    "\n",
    "b = np.random.sample(100)\n",
    "\n",
    "mean = 64\n",
    "std = 2\n",
    "c = mean + std * np.random.randn(1000) # this creates random data with a normal distribution following the \n",
    "                                       # mean and standard deviation\n",
    "\n",
    "import matplotlib.pyplot as plt\n",
    "n, bins, patches = plt.hist(c, density = 1, facecolor = '#e9967a') # this is a color i found on a \n",
    "                                                                   # website for color codes\n",
    "plt.show()"
   ]
  },
  {
   "cell_type": "markdown",
   "metadata": {
    "colab_type": "text",
    "id": "0UekCfKu2kTD"
   },
   "source": [
    "### Problem 4. The datetime library (with pandas)\n",
    "You'll have to do some googling ...\n",
    "\n",
    "a. create a variable that stores the exact time Trump was elected president, to the nearest minute.  The program will default to the current time zone. \n",
    "\n",
    "b. create a variable to store the exact time now.\n",
    "\n",
    "c.  Use the date_range() function in pandas to create a time stamp for each day between the times you found in parts a and b. Notice or find the length of this object with len()"
   ]
  },
  {
   "cell_type": "code",
   "execution_count": 167,
   "metadata": {
    "colab": {},
    "colab_type": "code",
    "id": "6A3dbCfD2kTE",
    "outputId": "25885850-ceca-4ede-cee4-9e7732291d45"
   },
   "outputs": [
    {
     "name": "stdout",
     "output_type": "stream",
     "text": [
      "2016-11-09 02:45:00\n",
      "2020-03-20 18:45:37.394625\n",
      "DatetimeIndex(['2016-11-09 02:45:00', '2016-11-10 02:45:00',\n",
      "               '2016-11-11 02:45:00', '2016-11-12 02:45:00',\n",
      "               '2016-11-13 02:45:00', '2016-11-14 02:45:00',\n",
      "               '2016-11-15 02:45:00', '2016-11-16 02:45:00',\n",
      "               '2016-11-17 02:45:00', '2016-11-18 02:45:00',\n",
      "               ...\n",
      "               '2020-03-11 02:45:00', '2020-03-12 02:45:00',\n",
      "               '2020-03-13 02:45:00', '2020-03-14 02:45:00',\n",
      "               '2020-03-15 02:45:00', '2020-03-16 02:45:00',\n",
      "               '2020-03-17 02:45:00', '2020-03-18 02:45:00',\n",
      "               '2020-03-19 02:45:00', '2020-03-20 02:45:00'],\n",
      "              dtype='datetime64[ns]', length=1228, freq='D')\n",
      "1228\n"
     ]
    }
   ],
   "source": [
    "from datetime import datetime \n",
    "import pandas as pd\n",
    "\n",
    "trumpETime = datetime(2016,11,9,2,45) # date and time Trump was elected [year, month, day, hour, minute]\n",
    "print(trumpETime)\n",
    "now = datetime.now() #this is the function to get the current date and time \n",
    "print(now)\n",
    "\n",
    "print(pd.date_range(trumpETime,now))\n",
    "print(len(pd.date_range(trumpETime,now))) # this is the number of days since Trump was elected"
   ]
  },
  {
   "cell_type": "markdown",
   "metadata": {
    "colab_type": "text",
    "id": "p7dq45j-2kTH"
   },
   "source": [
    "For the following problems, make sure you have the appropriate libraries installed and imported.  If you have not installed pandas datareader on your machine, you will need to do that first.  The html5lib 1.0b8 is also helpful. "
   ]
  },
  {
   "cell_type": "code",
   "execution_count": 168,
   "metadata": {
    "colab": {},
    "colab_type": "code",
    "id": "ZeVSJsqF2kTI"
   },
   "outputs": [
    {
     "name": "stdout",
     "output_type": "stream",
     "text": [
      "Collecting pandas-datareader\n",
      "\u001b[?25l  Downloading https://files.pythonhosted.org/packages/14/52/accb990baebe0063977f26e02df36aa7eb4015ed4e86f828cd76273cd6f1/pandas_datareader-0.8.1-py2.py3-none-any.whl (107kB)\n",
      "\u001b[K     |████████████████████████████████| 112kB 204kB/s eta 0:00:01\n",
      "\u001b[?25hRequirement already satisfied: requests>=2.3.0 in /Users/danielradke/opt/anaconda3/lib/python3.7/site-packages (from pandas-datareader) (2.22.0)\n",
      "Requirement already satisfied: lxml in /Users/danielradke/opt/anaconda3/lib/python3.7/site-packages (from pandas-datareader) (4.4.1)\n",
      "Requirement already satisfied: pandas>=0.21 in /Users/danielradke/opt/anaconda3/lib/python3.7/site-packages (from pandas-datareader) (0.25.1)\n",
      "Requirement already satisfied: urllib3!=1.25.0,!=1.25.1,<1.26,>=1.21.1 in /Users/danielradke/opt/anaconda3/lib/python3.7/site-packages (from requests>=2.3.0->pandas-datareader) (1.24.2)\n",
      "Requirement already satisfied: certifi>=2017.4.17 in /Users/danielradke/opt/anaconda3/lib/python3.7/site-packages (from requests>=2.3.0->pandas-datareader) (2019.9.11)\n",
      "Requirement already satisfied: chardet<3.1.0,>=3.0.2 in /Users/danielradke/opt/anaconda3/lib/python3.7/site-packages (from requests>=2.3.0->pandas-datareader) (3.0.4)\n",
      "Requirement already satisfied: idna<2.9,>=2.5 in /Users/danielradke/opt/anaconda3/lib/python3.7/site-packages (from requests>=2.3.0->pandas-datareader) (2.8)\n",
      "Requirement already satisfied: numpy>=1.13.3 in /Users/danielradke/opt/anaconda3/lib/python3.7/site-packages (from pandas>=0.21->pandas-datareader) (1.17.2)\n",
      "Requirement already satisfied: python-dateutil>=2.6.1 in /Users/danielradke/opt/anaconda3/lib/python3.7/site-packages (from pandas>=0.21->pandas-datareader) (2.8.0)\n",
      "Requirement already satisfied: pytz>=2017.2 in /Users/danielradke/opt/anaconda3/lib/python3.7/site-packages (from pandas>=0.21->pandas-datareader) (2019.3)\n",
      "Requirement already satisfied: six>=1.5 in /Users/danielradke/opt/anaconda3/lib/python3.7/site-packages (from python-dateutil>=2.6.1->pandas>=0.21->pandas-datareader) (1.12.0)\n",
      "Installing collected packages: pandas-datareader\n",
      "Successfully installed pandas-datareader-0.8.1\n",
      "Collecting html5lib==1.0b8\n",
      "\u001b[?25l  Downloading https://files.pythonhosted.org/packages/3b/89/c32486cdca98f476252a9db2cc836b605de4807ac4602ca55b3e7b52b7a8/html5lib-1.0b8.tar.gz (889kB)\n",
      "\u001b[K     |████████████████████████████████| 890kB 197kB/s eta 0:00:01\n",
      "\u001b[?25hRequirement already satisfied, skipping upgrade: six in /Users/danielradke/opt/anaconda3/lib/python3.7/site-packages (from html5lib==1.0b8) (1.12.0)\n",
      "Building wheels for collected packages: html5lib\n",
      "  Building wheel for html5lib (setup.py) ... \u001b[?25ldone\n",
      "\u001b[?25h  Created wheel for html5lib: filename=html5lib-1.0b8-cp37-none-any.whl size=107183 sha256=81439c482928c1022803956709d6b5556dd563b764631110ef636fea59ce28cf\n",
      "  Stored in directory: /Users/danielradke/Library/Caches/pip/wheels/73/99/09/aa182bba1f0ac27cef2f0555a0d359b173657cbe1da6a41046\n",
      "Successfully built html5lib\n",
      "Installing collected packages: html5lib\n",
      "  Found existing installation: html5lib 1.0.1\n",
      "    Uninstalling html5lib-1.0.1:\n",
      "      Successfully uninstalled html5lib-1.0.1\n",
      "Successfully installed html5lib-1.0b8\n"
     ]
    }
   ],
   "source": [
    "# installing dependencies for pandas\n",
    "# this only has to be run once on your device, you can comment it out thereafter\n",
    "!pip install pandas-datareader\n",
    "!pip install --upgrade html5lib==1.0b8"
   ]
  },
  {
   "cell_type": "markdown",
   "metadata": {
    "colab_type": "text",
    "id": "mqUxifCx2kTL"
   },
   "source": [
    "Imports for remaining problems "
   ]
  },
  {
   "cell_type": "code",
   "execution_count": 169,
   "metadata": {
    "colab": {},
    "colab_type": "code",
    "id": "IMOLNhaO2kTM"
   },
   "outputs": [],
   "source": [
    "import pandas as pd #pandas library\n",
    "from pandas_datareader import data #data readers (google, html, etc.)\n",
    "#The following line ensures that graphs are rendered in the notebook\n",
    "%matplotlib inline \n",
    "import numpy as np\n",
    "import matplotlib.pyplot as plt #Plotting library\n",
    "import datetime #datetime for timeseries support"
   ]
  },
  {
   "cell_type": "markdown",
   "metadata": {
    "colab_type": "text",
    "id": "ErMeuWwC2kTP"
   },
   "source": [
    "### Problem 5. Pandas Dataframe Basics\n",
    "a. Create a dataframe using the following customer data and column names.  Make sure the 'id' is set as the row index.  \n",
    "\n",
    "b. Print the two last columns, order_total and time.  \n",
    "\n",
    "c. Find the mean of the order_total column\n",
    "\n",
    "d. Print the second row of the dataframe  "
   ]
  },
  {
   "cell_type": "code",
   "execution_count": 203,
   "metadata": {
    "colab": {},
    "colab_type": "code",
    "id": "t4g69GAa2kTP"
   },
   "outputs": [
    {
     "name": "stdout",
     "output_type": "stream",
     "text": [
      "       last_order  order_total  time\n",
      "id                                  \n",
      "57640  2018-02-13       299.53    10\n",
      "52862  2018-04-16        95.54    33\n",
      "73637  2018-11-06       307.83    68\n",
      "80392  2018-12-03       339.34     7\n",
      "18811  2018-12-11       375.60    56\n",
      "\n",
      "\n",
      "       order_total  time\n",
      "id                      \n",
      "57640       299.53    10\n",
      "52862        95.54    33\n",
      "73637       307.83    68\n",
      "80392       339.34     7\n",
      "18811       375.60    56\n",
      "\n",
      "\n",
      "283.56800000000004\n",
      "\n",
      "\n",
      "last_order     2018-04-16\n",
      "order_total         95.54\n",
      "time                   33\n",
      "Name: 52862, dtype: object\n"
     ]
    }
   ],
   "source": [
    "data=[['57640','2018-02-13', 299.53,10],['52862','2018-04-16', 95.54,33],['73637','2018-11-06',307.83,68],['80392','2018-12-03',339.34,7],['18811','2018-12-11',375.60,56]]\n",
    "col_names=['id','last_order','order_total','time']\n",
    "\n",
    "df = pd.DataFrame(data,columns = ['id','last_order', 'order_total', 'time'])\n",
    "df.set_index('id', inplace = True) # this sets the index as the id column, \n",
    "#                                    the first argument must appear in the columns\n",
    "print(df)\n",
    "print('\\n')\n",
    "\n",
    "print(df[['order_total','time']]) #this slices the two desired columns, they are combined in a list \n",
    "print('\\n')\n",
    "\n",
    "print(df['order_total'].mean()) \n",
    "print('\\n')\n",
    "\n",
    "print(df.iloc[1]) # this slices the row by the index"
   ]
  },
  {
   "cell_type": "markdown",
   "metadata": {
    "colab_type": "text",
    "id": "jvcc7szh2kTS"
   },
   "source": [
    "### 6. Operations with Pandas Dataframes\n",
    "a.  Use the following data to make a pandas dataframe. \n",
    "\n",
    "b.  Change all of the temperatures from Fahrenheit to Celsius using the formula (degrees F - 32) x 5/9=degrees C\n"
   ]
  },
  {
   "cell_type": "code",
   "execution_count": 272,
   "metadata": {
    "colab": {},
    "colab_type": "code",
    "id": "RRASFrj32kTS"
   },
   "outputs": [
    {
     "name": "stdout",
     "output_type": "stream",
     "text": [
      "   humidity  temperature  wind\n",
      "0        20           78     7\n",
      "1        50           61    10\n",
      "2       100           81     5\n",
      "3        90           62    15\n",
      "4        30           84    19\n",
      "5         0           66    28\n",
      "6         0           87    12\n",
      "7         0           68    14\n",
      "8         0           86     4\n",
      "9        60           68     0\n",
      "   humidity  temperature  wind\n",
      "0        20    25.555556     7\n",
      "1        50    16.111111    10\n",
      "2       100    27.222222     5\n",
      "3        90    16.666667    15\n",
      "4        30    28.888889    19\n",
      "5         0    18.888889    28\n",
      "6         0    30.555556    12\n",
      "7         0    20.000000    14\n",
      "8         0    30.000000     4\n",
      "9        60    20.000000     0\n"
     ]
    }
   ],
   "source": [
    "Blacksburg_Forecast = [ { 'humidity' :  20, 'temperature' : 78, 'wind' :  7} ,\n",
    "                        { 'humidity' :  50, 'temperature' : 61, 'wind' : 10} ,\n",
    "                        { 'humidity' : 100, 'temperature' : 81, 'wind' :  5} ,\n",
    "                        { 'humidity' :  90, 'temperature' : 62, 'wind' : 15} ,\n",
    "                        { 'humidity' :  30, 'temperature' : 84, 'wind' : 19} ,\n",
    "                        { 'humidity' :   0, 'temperature' : 66, 'wind' : 28} ,\n",
    "                        { 'humidity' :   0, 'temperature' : 87, 'wind' : 12} ,\n",
    "                        { 'humidity' :   0, 'temperature' : 68, 'wind' : 14} ,\n",
    "                        { 'humidity' :   0, 'temperature' : 86, 'wind' :  4} ,\n",
    "                        { 'humidity' :  60, 'temperature' : 68, 'wind' :  0}\n",
    "                       ]\n",
    "\n",
    "BF_df = pd.DataFrame(Blacksburg_Forecast, columns = ['humidity','temperature','wind'])\n",
    "print(BF_df)\n",
    "\n",
    "new_data = []\n",
    "for i in BF_df['temperature']: new_data+=[(i-32) * (5/9)]   # i had to make a new list that contained the \n",
    "                                                            # the temperatures in celsius\n",
    "\n",
    "BF_df.update({'temperature': new_data})                     # i then updated the dataframe using an update function\n",
    "                                                            # i found online (https://pandas.pydata.org/pandas-docs/version/0.23.4/generated/pandas.DataFrame.update.html)\n",
    "print(BF_df)\n"
   ]
  },
  {
   "cell_type": "markdown",
   "metadata": {
    "colab_type": "text",
    "id": "jGAyTY382kTV"
   },
   "source": [
    "### 7.  Data Extraction with Pandas Datareader\n",
    "Use the IEX data source for this problem.  You can read more about remote access with datareader [here](https://pandas-datareader.readthedocs.io/en/latest/).  \n",
    "\n",
    "a.  Create a pandas dataframe for a stock of your choice over a period of one year.  Follow the examples from the last part of lesson 5.2.  Print the first four lines of the table.\n",
    "\n",
    "b.  Find the mean of the 'high' column and the maximum of the 'open' column.  Make sure to import the math library. \n"
   ]
  },
  {
   "cell_type": "code",
   "execution_count": 300,
   "metadata": {
    "colab": {},
    "colab_type": "code",
    "id": "uUCfsARB2kTV"
   },
   "outputs": [
    {
     "name": "stdout",
     "output_type": "stream",
     "text": [
      "                  High         Low        Open       Close   Volume  \\\n",
      "Date                                                                  \n",
      "2018-01-02  322.109985  311.000000  312.000000  320.529999  4352200   \n",
      "2018-01-03  325.250000  315.549988  321.000000  317.250000  4521500   \n",
      "2018-01-04  318.549988  305.679993  312.869995  314.619995  9946300   \n",
      "2018-01-05  317.239990  312.000000  316.619995  316.579987  4591200   \n",
      "\n",
      "             Adj Close  \n",
      "Date                    \n",
      "2018-01-02  320.529999  \n",
      "2018-01-03  317.250000  \n",
      "2018-01-04  314.619995  \n",
      "2018-01-05  316.579987  \n",
      "323.6936256439087\n",
      "375.0\n"
     ]
    }
   ],
   "source": [
    "import pandas_datareader.data as web\n",
    "from datetime import datetime\n",
    "\n",
    "symbol='TSLA'\n",
    "data_source='yahoo'\n",
    "start=datetime(2018,1,1)\n",
    "end=datetime(2019,1,1)\n",
    "\n",
    "tesla_stock = web.DataReader(symbol,data_source,start,end) \n",
    "\n",
    "tesla_df = pd.DataFrame(tesla_stock)\n",
    "print(tesla_df.head(4)) # this returns the first four rows \n",
    "\n",
    "tesla_stock_high_mean = tesla_df['High'].mean()\n",
    "print(tesla_stock_mean_high)\n",
    "\n",
    "tesla_stock_open_max = tesla_df['Open'].max()\n",
    "print(tesla_stock_open_max)"
   ]
  },
  {
   "cell_type": "markdown",
   "metadata": {
    "colab_type": "text",
    "id": "enZ571OS2kTX"
   },
   "source": [
    "### 8.  Optional Challenge - Data Extraction and Manipulation\n",
    "See if you can figure out how to extract data from the star wars api:  'https://swapi.co/api/'. You can customize your data by adding to the url e.g. 'https://swapi.co/api/planets/' to get data about planets.  Extract the data and turn it into a tidy pandas dataframe.  You will need the requests library and probably the json library, perhaps others.  Have fun!"
   ]
  },
  {
   "cell_type": "code",
   "execution_count": 60,
   "metadata": {
    "colab": {},
    "colab_type": "code",
    "id": "wLusDJpS2kTY",
    "scrolled": false
   },
   "outputs": [
    {
     "name": "stdout",
     "output_type": "stream",
     "text": [
      "count\n",
      "next\n",
      "previous\n",
      "results\n",
      "        name rotation_period orbital_period diameter              climate  \\\n",
      "0   Alderaan              24            364    12500            temperate   \n",
      "1   Yavin IV              24           4818    10200  temperate, tropical   \n",
      "2       Hoth              23            549     7200               frozen   \n",
      "3    Dagobah              23            341     8900                murky   \n",
      "4     Bespin              12           5110   118000            temperate   \n",
      "5      Endor              18            402     4900            temperate   \n",
      "6      Naboo              26            312    12120            temperate   \n",
      "7  Coruscant              24            368    12240            temperate   \n",
      "8     Kamino              27            463    19720            temperate   \n",
      "9   Geonosis              30            256    11370      temperate, arid   \n",
      "\n",
      "                                  gravity  \\\n",
      "0                              1 standard   \n",
      "1                              1 standard   \n",
      "2                            1.1 standard   \n",
      "3                                     N/A   \n",
      "4  1.5 (surface), 1 standard (Cloud City)   \n",
      "5                           0.85 standard   \n",
      "6                              1 standard   \n",
      "7                              1 standard   \n",
      "8                              1 standard   \n",
      "9                            0.9 standard   \n",
      "\n",
      "                                    terrain surface_water     population  \\\n",
      "0                     grasslands, mountains            40     2000000000   \n",
      "1                       jungle, rainforests             8           1000   \n",
      "2        tundra, ice caves, mountain ranges           100        unknown   \n",
      "3                            swamp, jungles             8        unknown   \n",
      "4                                 gas giant             0        6000000   \n",
      "5                 forests, mountains, lakes             8       30000000   \n",
      "6  grassy hills, swamps, forests, mountains            12     4500000000   \n",
      "7                      cityscape, mountains       unknown  1000000000000   \n",
      "8                                     ocean           100     1000000000   \n",
      "9            rock, desert, mountain, barren             5   100000000000   \n",
      "\n",
      "                                           residents  \\\n",
      "0  [https://swapi.co/api/people/5/, https://swapi...   \n",
      "1                                                 []   \n",
      "2                                                 []   \n",
      "3                                                 []   \n",
      "4                  [https://swapi.co/api/people/26/]   \n",
      "5                  [https://swapi.co/api/people/30/]   \n",
      "6  [https://swapi.co/api/people/3/, https://swapi...   \n",
      "7  [https://swapi.co/api/people/34/, https://swap...   \n",
      "8  [https://swapi.co/api/people/22/, https://swap...   \n",
      "9                  [https://swapi.co/api/people/63/]   \n",
      "\n",
      "                                               films  \\\n",
      "0  [https://swapi.co/api/films/6/, https://swapi....   \n",
      "1                    [https://swapi.co/api/films/1/]   \n",
      "2                    [https://swapi.co/api/films/2/]   \n",
      "3  [https://swapi.co/api/films/2/, https://swapi....   \n",
      "4                    [https://swapi.co/api/films/2/]   \n",
      "5                    [https://swapi.co/api/films/3/]   \n",
      "6  [https://swapi.co/api/films/5/, https://swapi....   \n",
      "7  [https://swapi.co/api/films/5/, https://swapi....   \n",
      "8                    [https://swapi.co/api/films/5/]   \n",
      "9                    [https://swapi.co/api/films/5/]   \n",
      "\n",
      "                       created                       edited  \\\n",
      "0  2014-12-10T11:35:48.479000Z  2014-12-20T20:58:18.420000Z   \n",
      "1  2014-12-10T11:37:19.144000Z  2014-12-20T20:58:18.421000Z   \n",
      "2  2014-12-10T11:39:13.934000Z  2014-12-20T20:58:18.423000Z   \n",
      "3  2014-12-10T11:42:22.590000Z  2014-12-20T20:58:18.425000Z   \n",
      "4  2014-12-10T11:43:55.240000Z  2014-12-20T20:58:18.427000Z   \n",
      "5  2014-12-10T11:50:29.349000Z  2014-12-20T20:58:18.429000Z   \n",
      "6  2014-12-10T11:52:31.066000Z  2014-12-20T20:58:18.430000Z   \n",
      "7  2014-12-10T11:54:13.921000Z  2014-12-20T20:58:18.432000Z   \n",
      "8  2014-12-10T12:45:06.577000Z  2014-12-20T20:58:18.434000Z   \n",
      "9  2014-12-10T12:47:22.350000Z  2014-12-20T20:58:18.437000Z   \n",
      "\n",
      "                                url  \n",
      "0   https://swapi.co/api/planets/2/  \n",
      "1   https://swapi.co/api/planets/3/  \n",
      "2   https://swapi.co/api/planets/4/  \n",
      "3   https://swapi.co/api/planets/5/  \n",
      "4   https://swapi.co/api/planets/6/  \n",
      "5   https://swapi.co/api/planets/7/  \n",
      "6   https://swapi.co/api/planets/8/  \n",
      "7   https://swapi.co/api/planets/9/  \n",
      "8  https://swapi.co/api/planets/10/  \n",
      "9  https://swapi.co/api/planets/11/  \n"
     ]
    }
   ],
   "source": [
    "import requests \n",
    "import json \n",
    "import pandas as pd\n",
    "\n",
    "response = requests.get('https://swapi.co/api/planets/')\n",
    "#print(response.status_code)\n",
    "data = response.content.decode('utf-8')\n",
    "json_data = json.loads(data) \n",
    "\n",
    "\n",
    "df_data = json_data['results'] # this is where the planets data is stored\n",
    "planets_df = pd.DataFrame(df_data)\n",
    "print(planets_df)\n"
   ]
  },
  {
   "cell_type": "code",
   "execution_count": null,
   "metadata": {},
   "outputs": [],
   "source": []
  }
 ],
 "metadata": {
  "colab": {
   "name": "Assignment 7 - Data Management and Manipulation.ipynb",
   "provenance": []
  },
  "kernelspec": {
   "display_name": "Python 3",
   "language": "python",
   "name": "python3"
  },
  "language_info": {
   "codemirror_mode": {
    "name": "ipython",
    "version": 3
   },
   "file_extension": ".py",
   "mimetype": "text/x-python",
   "name": "python",
   "nbconvert_exporter": "python",
   "pygments_lexer": "ipython3",
   "version": "3.7.4"
  }
 },
 "nbformat": 4,
 "nbformat_minor": 1
}
