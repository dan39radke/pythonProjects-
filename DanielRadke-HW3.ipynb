{
 "cells": [
  {
   "cell_type": "markdown",
   "metadata": {},
   "source": [
    "## Business Applications for Python Assignment III\n",
    "### Collections - Lists, Dictionaries, and Sets\n",
    "\n",
    "### Daniel Radke"
   ]
  },
  {
   "cell_type": "markdown",
   "metadata": {},
   "source": [
    "#### Problem 1\n",
    "This problem is about list operations.  Look back at our notes and feel free to reasearch how to perform the following operations. \n",
    "\n",
    "a. Create an empty list\n",
    "\n",
    "b. Add an item to a list\n",
    "\n",
    "c. Take off the last item in a list\n",
    "\n",
    "d. Insert an item into a list at a specific index\n",
    "\n",
    "e. Remove an item at a specific index"
   ]
  },
  {
   "cell_type": "code",
   "execution_count": 10,
   "metadata": {
    "scrolled": true
   },
   "outputs": [
    {
     "name": "stdout",
     "output_type": "stream",
     "text": [
      "['one']\n",
      "[]\n",
      "[0, 1, 2, 3, 4, 5, 6, 7, 8, 9, 10, 11, 12, 13, 14, 15, 16, 17, 18, 19, 20, 21, 22, 23, 24, 25, 26, 27, 28, 29, 30, 31, 32, 33, 34, 35, 36, 37, 38, 39, 40, 41, 42, 43, 44, 45, 46, 47, 48, 49, 50, 51, 52, 53, 54, 55, 56, 57, 58, 59, 60, 61, 62, 63, 64, 65, 66, 67, 68, 69, 70, 71, 72, 73, 74, 75, 76, 77, 78, 79, 80, 81, 82, 83, 84, 85, 86, 87, 88, 89, 90, 91, 92, 93, 94, 95, 96, 97, 98, 99]\n",
      "[0, 1, 2, 3, 4, 5, 6, 7, 8, 9, 'Hey']\n",
      "[0, 1, 2, 3, 4, 5, 6, 7, 8, 9, 'Hey', 11, 13, 14, 15, 16, 17, 18, 19, 20, 21, 22, 23, 24, 25, 26, 27, 28, 29, 30, 31, 32, 33, 34, 35, 36, 37, 38, 39, 40, 41, 42, 43, 44, 45, 46, 47, 48, 49, 50, 51, 52, 53, 54, 55, 56, 57, 58, 59, 60, 61, 62, 63, 64, 65, 66, 67, 68, 69, 70, 71, 72, 73, 74, 75, 76, 77, 78, 79, 80, 81, 82, 83, 84, 85, 86, 87, 88, 89, 90, 91, 92, 93, 94, 95, 96, 97, 98, 99]\n"
     ]
    }
   ],
   "source": [
    "# a. Create an empty list\n",
    "emptylist = []\n",
    "\n",
    "# b. Add an item to a list\n",
    "emptylist.append('one')\n",
    "print(emptylist)\n",
    "# c. Take off the last item in a list\n",
    "del emptylist[-1]\n",
    "print(emptylist)\n",
    "# d. Insert an item into a list at a specific index\n",
    "for i in range(0,100):\n",
    "    emptylist.append(i)\n",
    "print(emptylist)\n",
    "emptylist[10] = \"Hey\"\n",
    "print(emptylist[0:11])\n",
    "# e. Remove an item at a specific index\n",
    "del emptylist[12]\n",
    "print(emptylist)\n"
   ]
  },
  {
   "cell_type": "markdown",
   "metadata": {},
   "source": [
    "#### Problem 2\n",
    "This problem is designed to expand our understanding of dictionaries (called, 'objects', in other programming languages). Please demonstrate the following properties of and methods for dictionaries.\n",
    "\n",
    "a. Show how to access the value for a specified key, use June for an example.\n",
    "\n",
    "b. Print all of the keys for the dictionary shown below\n",
    "\n",
    "c. Print all of the values for the dictionary shown below.\n",
    "\n",
    "d. Demonstrate a method to find how many items are in the dictionary.\n",
    "\n",
    "e. Demonstrate a method to add a new key value pair to the dictionary."
   ]
  },
  {
   "cell_type": "code",
   "execution_count": 42,
   "metadata": {},
   "outputs": [
    {
     "name": "stdout",
     "output_type": "stream",
     "text": [
      "January\n",
      "February\n",
      "March\n",
      "April\n",
      "May\n",
      "June\n",
      "July\n",
      "August\n",
      "September\n",
      "October\n",
      "November\n",
      "December\n",
      "31\n",
      "28\n",
      "31\n",
      "30\n",
      "31\n",
      "30\n",
      "31\n",
      "31\n",
      "30\n",
      "31\n",
      "30\n",
      "31\n",
      "{'January': 31, 'February': 28, 'March': 31, 'April': 30, 'May': 31, 'June': 30, 'July': 31, 'August': 31, 'September': 30, 'October': 31, 'November': 30, 'December': 31, 'Year': 12}\n"
     ]
    }
   ],
   "source": [
    "days = {\n",
    "    'January':31, \n",
    "    'February':28, \n",
    "    'March':31, \n",
    "    'April':30,\n",
    "    'May':31, \n",
    "    'June':30, \n",
    "    'July':31, \n",
    "    'August':31,\n",
    "    'September':30, \n",
    "    'October':31, \n",
    "    'November':30, \n",
    "    'December':31\n",
    "}\n",
    "\n",
    "# a. Show how to access the value for a specified key, use June for an example.\n",
    "days.get('June')\n",
    "# b. Print all of the keys for the dictionary shown below\n",
    "for i in days:\n",
    "    print(i)\n",
    "# c. Print all of the values for the dictionary shown below.\n",
    "for i in days:\n",
    "    print(days[i])\n",
    "# d. Demonstrate a method to find how many items are in the dictionary.\n",
    "len(days)\n",
    "# e. Demonstrate a method to add a new key value pair to the dictionary.\n",
    "days.update({\"Year\": 12})\n",
    "print(days)"
   ]
  },
  {
   "cell_type": "markdown",
   "metadata": {},
   "source": [
    "#### Problem 3\n",
    "This problems is about sets and their operations\n",
    "\n",
    "a.  Create an empty set\n",
    "\n",
    "b.  Create a set that contains values 1,2,3,4,5\n",
    "\n",
    "c.  Add the value 6 to the set\n",
    "\n",
    "d.  Add multiple values 7,8,9 to the set\n",
    "\n",
    "e.  Remove the 6 from the set by referencing the value itself. \n",
    "\n",
    "f.  Why can't I discard the 3 from the set by referencing the index.\n"
   ]
  },
  {
   "cell_type": "code",
   "execution_count": 83,
   "metadata": {},
   "outputs": [
    {
     "data": {
      "text/plain": [
       "{1, 2, 3, 4, 5, 7, 8, 9}"
      ]
     },
     "execution_count": 83,
     "metadata": {},
     "output_type": "execute_result"
    }
   ],
   "source": [
    "# a. Create an empty set\n",
    "l = set()\n",
    "# b. Create a set that contains values 1,2,3,4,5\n",
    "l.update({1,2,3,4,5})\n",
    "l\n",
    "# c. Add the value 6 to the set\n",
    "l.add(6)\n",
    "l\n",
    "# d. Add multiple values 7,8,9 to the set\n",
    "l.update({7,8,9})\n",
    "l\n",
    "# e. Remove the 6 from the set by referencing the value itself.\n",
    "l.remove(6)\n",
    "l\n",
    "# f. Why can't I discard the 3 from the set by referencing the index.\n",
    "# Sets dont have an index. \n"
   ]
  },
  {
   "cell_type": "markdown",
   "metadata": {},
   "source": [
    "#### Problem 4\n",
    "Given the following collection of stock symbols, please perform the following:\n",
    "\n",
    "a. Extract the symbol 'DPBE' from the array.\n",
    "\n",
    "b. Write a program to destructure the array so that the final result is:\n",
    "\n",
    "```\n",
    "['TEUCF', 'BBLKF', 'NMM', 'SAIA', 'SALT', 'SB', 'TK', 'NM', 'ERA', 'TCNAF', 'URAL', 'BRSWQ', 'DPBE', 'TOPS', 'GNKWF', 'AIRTW', 'SHIPW']\n",
    "```\n",
    "c.  Write a program to change all of the symbols to lowercase:\n",
    "```\n",
    "['teucf', 'bblkf', 'nmm', 'saia', 'salt', 'sb', 'tk', 'nm', 'era', 'tcnaf', 'ural', 'brswq', 'dpbe', 'tops', 'gnkwf', 'airtw', 'shipw']\n",
    "```\n",
    "Research a python function that can do this for you and cite your source. \n",
    "\n"
   ]
  },
  {
   "cell_type": "code",
   "execution_count": 17,
   "metadata": {},
   "outputs": [
    {
     "name": "stdout",
     "output_type": "stream",
     "text": [
      "DPBE\n"
     ]
    },
    {
     "data": {
      "text/plain": [
       "\"['teucf', 'bblkf', 'nmm', 'saia', 'salt', 'sb', 'tk', 'nm', 'era', 'tcnaf', 'ural', 'brswq', 'dpbe', 'tops', 'gnkwf', 'airtw', 'shipw']\""
      ]
     },
     "execution_count": 17,
     "metadata": {},
     "output_type": "execute_result"
    }
   ],
   "source": [
    "stocks=[\n",
    "        ['TEUCF', 'BBLKF', 'NMM', 'SAIA','SALT','SB','TK','NM','ERA'],\n",
    "        ['TCNAF','URAL','BRSWQ','DPBE','TOPS','GNKWF','AIRTW','SHIPW']\n",
    "       ]\n",
    "\n",
    "# a. extract the symbol 'DPBE' from the array\n",
    "stocks[1].index(\"DPBE\")\n",
    "print(stocks[1][3])\n",
    "\n",
    "# b. program to destructure the nested list\n",
    "stocks = stocks[0] + stocks[1]\n",
    "stocks\n",
    "# c. Change all of the symbols to lowercase.\n",
    "stocks = str.lower(str(stocks))\n",
    "stocks"
   ]
  },
  {
   "cell_type": "markdown",
   "metadata": {},
   "source": [
    "#### Problem 5\n",
    "This data set shows a collection of high performing and low performing stocks.  Each stock symbol is associated with a percent change, a positive value shows an increase, a negative value shows a decrease.  \n",
    "```\n",
    "stocks_d={\n",
    "    'TEUCF':6352, \n",
    "    'BBLKF':125, \n",
    "    'NMM':57, \n",
    "    .\n",
    "    .\n",
    "    .\n",
    "```\n",
    "\n",
    "Write a function to calculate the average increase and the average decrease in stock values."
   ]
  },
  {
   "cell_type": "code",
   "execution_count": 30,
   "metadata": {},
   "outputs": [
    {
     "name": "stdout",
     "output_type": "stream",
     "text": [
      "757\n",
      "-65.625\n"
     ]
    }
   ],
   "source": [
    "import statistics\n",
    "s_d={\n",
    "    'TEUCF':6352, \n",
    "    'BBLKF':125, \n",
    "    'NMM':57, \n",
    "    'SAIA':53,\n",
    "    'SALT':48,\n",
    "    'SB':46,\n",
    "    'TK':45,\n",
    "    'NM':44,\n",
    "    'ERA':43,\n",
    "    'TCNAF':-83,\n",
    "    'URAL':-83,\n",
    "    'BRSWQ':-80,\n",
    "    'DPBE':-70,\n",
    "    'TOPS':-59,\n",
    "    'GNKWF':-53,\n",
    "    'AIRTW':-51,\n",
    "    'SHIPW':-46\n",
    "         }\n",
    "\n",
    "dec = []\n",
    "inc = [] \n",
    "for i in s_d.values():\n",
    "    if i > 0: inc+=[i]\n",
    "    elif i < 0: dec+=[i]\n",
    "inc_mn = statistics.mean(inc)\n",
    "inc_mn = inc_mn \n",
    "dec_mn = statistics.mean(dec)\n",
    "dec_mn = dec_mn \n",
    "print(inc_mn)\n",
    "print(dec_mn)"
   ]
  },
  {
   "cell_type": "markdown",
   "metadata": {},
   "source": [
    "#### Problem 6  - Optional Challenge\n",
    "The context for this scenario may be a reach, but for the sake of learning, let's say we have several observed values for the percent change for each of the stocks.  \n",
    "\n",
    "a.  Write a program that replaces the lists of values for each stock with the maximum value for each stock and another program that does the same thing but for the minimum value. (use the .copy() method to make a copy of the dictionary) \n",
    "\n",
    "Result for maximum values:\n",
    "```\n",
    "{'TEUCF': 6352, 'BBLKF': 125, 'NMM': 57, 'SAIA': 53, 'SALT': 49, 'SB': 46, 'TK': 45, 'NM': 44, 'ERA': 43, 'TCNAF': -81, 'URAL': -81, 'BRSWQ': -79, 'DPBE': 68, 'TOPS': -58, 'GNKWF': -52, 'AIRTW': -49, 'SHIPW': -40}\n",
    "```\n",
    "\n",
    "\n",
    "b.  We would like to check which of these stocks, based on the three values, seems to be the most variable using the following formula: ```pd=((max-min)/min)*100```\n",
    "\n",
    "If any of the stocks have a pd value greater then 15, record the name of the stock in a list.  For example, for ```'SALT':[40,49,48]``` your program should determine that ```((49-40)/40)*100 = 22.5```, and would add 'SALT' to your list.  "
   ]
  },
  {
   "cell_type": "code",
   "execution_count": 47,
   "metadata": {},
   "outputs": [
    {
     "name": "stdout",
     "output_type": "stream",
     "text": [
      "TEUCF\n",
      "BBLKF\n",
      "NMM\n",
      "SAIA\n",
      "SALT\n",
      "SB\n",
      "TK\n",
      "NM\n",
      "ERA\n",
      "TCNAF\n",
      "URAL\n",
      "BRSWQ\n",
      "DPBE\n",
      "TOPS\n",
      "GNKWF\n",
      "AIRTW\n",
      "SHIPW\n"
     ]
    }
   ],
   "source": [
    "se={\n",
    "    'TEUCF':[6352,6171,6053], \n",
    "    'BBLKF':[109,125,111], \n",
    "    'NMM':[52,50,57], \n",
    "    'SAIA':[52,53,50],\n",
    "    'SALT':[40,49,48],\n",
    "    'SB':[39,46,46],\n",
    "    'TK':[45,43,44],\n",
    "    'NM':[44,44,43],\n",
    "    'ERA':[43,42,43],\n",
    "    'TCNAF':[-83,-81,-83],\n",
    "    'URAL':[-83,-82,-81],\n",
    "    'BRSWQ':[-80,-81,-79],\n",
    "    'DPBE':[68,-70,67],\n",
    "    'TOPS':[-59,-59,-58],\n",
    "    'GNKWF':[-53,-52,-53],\n",
    "    'AIRTW':[-51,-49,-50],\n",
    "    'SHIPW':[-46,-40,-47]\n",
    "         }\n",
    "\n",
    "# a. \n",
    "se1 = dict.copy(se)\n",
    "for i in se1:\n",
    "    print(i)\n",
    "# b. \n",
    "se2 = dict.copy(se)\n",
    "        "
   ]
  },
  {
   "cell_type": "markdown",
   "metadata": {},
   "source": [
    "#### Problem 7\n",
    "Please investigate the following methods for sets in python.  Add some explanatory comments and print statements to the code to help make sense of what the commands do. "
   ]
  },
  {
   "cell_type": "code",
   "execution_count": 34,
   "metadata": {},
   "outputs": [
    {
     "name": "stdout",
     "output_type": "stream",
     "text": [
      "{1, 2, 3, 4, 5, 6, 7, 8}\n",
      "{4, 5}\n",
      "{1, 2, 3}\n",
      "{1, 2, 3, 6, 7, 8}\n"
     ]
    }
   ],
   "source": [
    "a={1,2,3,4,5}\n",
    "b={4,5,6,7,8}\n",
    "\n",
    "# a. This operation unionizes both sets. Or makes them into one set while taking out the repeated values.\n",
    "\n",
    "print(a|b)\n",
    "\n",
    "# b. This operation returns the set of characters that intersect both sets. Here the sets are \n",
    "#.   intersected at 4 and 5.\n",
    "\n",
    "print(a&b)\n",
    "\n",
    "# c. This operation returns the set of characters that appear in the first variable but not in the second. \n",
    "\n",
    "print(a-b)\n",
    "\n",
    "# d. This operation returns a set of the characters that appear in each set that arent shared between sets. \n",
    "#.   The unique values.\n",
    "\n",
    "print(a^b)"
   ]
  },
  {
   "cell_type": "code",
   "execution_count": null,
   "metadata": {},
   "outputs": [],
   "source": []
  }
 ],
 "metadata": {
  "kernelspec": {
   "display_name": "Python 3",
   "language": "python",
   "name": "python3"
  },
  "language_info": {
   "codemirror_mode": {
    "name": "ipython",
    "version": 3
   },
   "file_extension": ".py",
   "mimetype": "text/x-python",
   "name": "python",
   "nbconvert_exporter": "python",
   "pygments_lexer": "ipython3",
   "version": "3.7.4"
  }
 },
 "nbformat": 4,
 "nbformat_minor": 2
}
