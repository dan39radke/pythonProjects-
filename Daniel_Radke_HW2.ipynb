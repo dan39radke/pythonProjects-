{
 "cells": [
  {
   "cell_type": "markdown",
   "metadata": {},
   "source": [
    "### SCH-MGMT 697P Business Applications of Python\n",
    "### Assignment II:  Functions \n",
    "Please complete these exercises to the best of your abilities.  Please include code to invoke each of your functions to demonstrate the functionality.  Write comments throughout your code to explain steps.  If you run into a persistent error, please demonstrate your efforts to resolve it; search the web for the error, see if you can get closer to figuring it out.  Document what you tried in order to fix the problem. "
   ]
  },
  {
   "cell_type": "markdown",
   "metadata": {},
   "source": [
    "#### Problem 1\n",
    "a. Write a basic function to print the statment \"I can't get enough Python!\""
   ]
  },
  {
   "cell_type": "markdown",
   "metadata": {},
   "source": [
    "b. Write a basic function that accepts a name argument and prints \"(name) can't get enough Python!\""
   ]
  },
  {
   "cell_type": "code",
   "execution_count": 22,
   "metadata": {
    "scrolled": true
   },
   "outputs": [
    {
     "name": "stdout",
     "output_type": "stream",
     "text": [
      "I can't get enough Python!\n",
      "Daniel can't get enough python!\n"
     ]
    }
   ],
   "source": [
    "# a. \n",
    "\n",
    "def iCantGetEnough(): \n",
    "    print(\"I can't get enough Python!\")\n",
    "\n",
    "iCantGetEnough()\n",
    "# b. \n",
    "def youCantGetEnough(name):\n",
    "    who = (name) + \" \" + \"can't get enough python!\"\n",
    "    print(who)\n",
    "\n",
    "youCantGetEnough(\"Daniel\")"
   ]
  },
  {
   "cell_type": "markdown",
   "metadata": {},
   "source": [
    "#### Problem 2\n",
    "Write a function that accepts the purchase price of a stock and a closing price and returns the percent change.  "
   ]
  },
  {
   "cell_type": "code",
   "execution_count": 4,
   "metadata": {},
   "outputs": [
    {
     "data": {
      "text/plain": [
       "1.7058823529411762"
      ]
     },
     "execution_count": 4,
     "metadata": {},
     "output_type": "execute_result"
    }
   ],
   "source": [
    "def percent_change(purchase, close):\n",
    "    change = (float(close) - float(purchase)) / float(purchase)\n",
    "    return change\n",
    "    \n",
    "\n",
    "# test\n",
    "purchase=3.4\n",
    "close=9.2\n",
    "percent_change(purchase, close)"
   ]
  },
  {
   "cell_type": "markdown",
   "metadata": {},
   "source": [
    "#### Problem 3\n",
    "Write a function that accepts a list of data values and returns a summary that includes the mean, standard deviation, minimum, 25th percentile, median, 75th percentile, and maximum. You will need to import the numpy library in order to calculate the percentile.  Do a little bit of research.  In your function, also include a print statement that makes the output more meaningful.  "
   ]
  },
  {
   "cell_type": "code",
   "execution_count": 24,
   "metadata": {},
   "outputs": [
    {
     "name": "stdout",
     "output_type": "stream",
     "text": [
      "Mean = 10.7\n",
      "Standard Deviation = 6.13713650202148\n",
      "Minimum = 4.5\n",
      "Twenty Fifth Percentile = 6.2\n",
      "Median = 8.4\n",
      "Seventy Fifth Percentile = 11.6\n",
      "Max = 24.3\n"
     ]
    }
   ],
   "source": [
    "import numpy \n",
    "def summary(data):\n",
    "    Mean_Data = str(numpy.mean(data))\n",
    "    StD_Data = str(numpy.std(data))\n",
    "    Min_Data = str(numpy.amin(data))\n",
    "    TwentyFifth_Data = str(numpy.percentile(data,25))\n",
    "    Median_Data = str(numpy.median(data))\n",
    "    SeventyFifth_Data = str(numpy.percentile(data,75))\n",
    "    Max_Data = str(numpy.amax(data))\n",
    "    overall = \"Mean = \" + Mean_Data + \"\\n\" \\\n",
    "           + \"Standard Deviation = \" + StD_Data + \"\\n\" \\\n",
    "           + \"Minimum = \" + Min_Data + \"\\n\" \\\n",
    "           + \"Twenty Fifth Percentile = \" + TwentyFifth_Data + \"\\n\" \\\n",
    "           + \"Median = \" + Median_Data + \"\\n\" \\\n",
    "           + \"Seventy Fifth Percentile = \" + SeventyFifth_Data + \"\\n\" \\\n",
    "           + \"Max = \" + Max_Data\n",
    "    print(overall)\n",
    "# test\n",
    "data = [4.5, 6, 7, 18, 6.2, 11.6, 24.3, 8.4, 10.3]\n",
    "summary(data)"
   ]
  },
  {
   "cell_type": "markdown",
   "metadata": {},
   "source": [
    "#### Problem 4\n",
    "Write a function that accepts a price for a restaurant bill, a sales tax, and a tip.  The function should calculate and return the amount a customer will have to pay after adding the sales tax and tip.  Make the default sales tax .0625 and the default tip .15. "
   ]
  },
  {
   "cell_type": "code",
   "execution_count": 25,
   "metadata": {},
   "outputs": [
    {
     "data": {
      "text/plain": [
       "25.605999999999998"
      ]
     },
     "execution_count": 25,
     "metadata": {},
     "output_type": "execute_result"
    }
   ],
   "source": [
    "def calculate_bill(price, tax=.0625, tip=.15):\n",
    "    total_bill = price + (price * tax)\n",
    "    total = total_bill + (total_bill * tip)\n",
    "    return total\n",
    "    \n",
    "# test\n",
    "price=20\n",
    "calculate_bill(20)\n",
    "calculate_bill(20, .085, .18)"
   ]
  },
  {
   "cell_type": "markdown",
   "metadata": {},
   "source": [
    "#### Problem 5\n",
    "Research local and global variables in Python.  Write a brief summary of what they are and provide a simple example to demonstrate.\n",
    "\n",
    "#### Summary\n",
    "(3-4 sentences)"
   ]
  },
  {
   "cell_type": "code",
   "execution_count": 5,
   "metadata": {},
   "outputs": [
    {
     "name": "stdout",
     "output_type": "stream",
     "text": [
      "12\n",
      "7\n",
      "29\n",
      "29\n"
     ]
    }
   ],
   "source": [
    "# Example: Global variables are variables assigned a value outside of a function. This allows us to use the \n",
    "# variable in multiple functions. We can reassign a value to the global inside a function in two ways; to update the\n",
    "# value local to the variable (without 'global') or we can reassign the value of the global by typing 'global (x)' \n",
    "# inside the function. Local variables only have a lifespan of the function it is contained in. \n",
    "\n",
    "t = 7\n",
    "def Local_inside():\n",
    "    t = 12 \n",
    "    print(t)\n",
    "Local_inside()\n",
    "def Global():\n",
    "    s = t \n",
    "    print(s)\n",
    "Global()\n",
    "def Global_Updated():\n",
    "    global t\n",
    "    t = 29\n",
    "    print(t)\n",
    "Global_Updated()\n",
    "print(t)"
   ]
  },
  {
   "cell_type": "markdown",
   "metadata": {},
   "source": [
    "#### Problem 6\n",
    "Write a function that takes in the purchase price and the current price of a certain stock.  If the stock's value has decreased by more than 10% or increased by more than 20%, return True.   Otherwise return False. "
   ]
  },
  {
   "cell_type": "code",
   "execution_count": null,
   "metadata": {},
   "outputs": [],
   "source": [
    "def check_price(purchase, current):\n",
    "    if (current - purchase) / purchase > .2: return True\n",
    "    elif (current - purchase) / purchase < -.1: return True\n",
    "    else: return False\n",
    "\n",
    "# test\n",
    "purchase=7.5\n",
    "current=5\n",
    "check_price(purchase, current)"
   ]
  },
  {
   "cell_type": "markdown",
   "metadata": {},
   "source": [
    "#### Problem 7\n",
    "Try to understand what is goind on here.  Break down this problems using print() statements to understand what's going on.  Then, add comments to the code to explain each step.  Make sure to look up the while() method to understand how it works. "
   ]
  },
  {
   "cell_type": "code",
   "execution_count": 1,
   "metadata": {},
   "outputs": [
    {
     "name": "stdout",
     "output_type": "stream",
     "text": [
      "5\n",
      "5\n",
      "1234\n",
      "4\n",
      "54\n",
      "123\n",
      "3\n",
      "543\n",
      "12\n",
      "2\n",
      "5432\n",
      "1\n",
      "1\n",
      "54321\n",
      "0\n"
     ]
    },
    {
     "data": {
      "text/plain": [
       "54321"
      ]
     },
     "execution_count": 1,
     "metadata": {},
     "output_type": "execute_result"
    }
   ],
   "source": [
    "def reverse_number(num):\n",
    "    reversed=0\n",
    "    while(num>0):\n",
    "        remainder=num%10\n",
    "        print(remainder)  # The modulo is dividing the number by ten and taking the remainder and assigning \n",
    "                          #  it to the variable 'reversed' \n",
    "        reversed=reversed*10+remainder\n",
    "        print(reversed)   # Next, we take reversed, muliply it by ten, add the remainder, and reassign it to \n",
    "                          # reversed. By doing this we are flipping the numbers by multiplying by ten which \n",
    "                          # we originally split it by.\n",
    "        num=num//10\n",
    "        print(num)        # Lastly, we are taking off the last number off of the number we inputted because \n",
    "                          # we already assigned it to reversed and we dont want it to add it again.\n",
    "    return reversed\n",
    "\n",
    "# test \n",
    "num=12345\n",
    "reverse_number(num)"
   ]
  },
  {
   "cell_type": "markdown",
   "metadata": {},
   "source": [
    "#### Problem 8  - *optional challenge*\n",
    "Write a function that accepts a positive number and formats it into a string in monetary format correctly representing the dollar and cent amounts.   For example:\n",
    "\n",
    "```\n",
    "money_format(3510000.159897)\n",
    "```\n",
    "should return\n",
    "```\n",
    "  '3,510,000.16'\n",
    "```"
   ]
  },
  {
   "cell_type": "code",
   "execution_count": 3,
   "metadata": {},
   "outputs": [],
   "source": [
    "# def money_format(num):\n",
    "#    if num < 0: \n",
    "#        print(\"Number must be positive\")\n",
    "#    num = round(num, 2)\n",
    "#    num = str(num)\n",
    "#    num = list(num)\n",
    "#    rhs = num\n",
    "#    rhs = rhs[-3] + rhs[-2] + rhs[-1]\n",
    "#    print(rhs)\n",
    "#    for i,l in enumerate(num(-3,-1)):\n",
    "#        lhs = lhs + i\n",
    "#        print(lhs)\n",
    "#        print(i,l)\n",
    "# elif (num<1000) return    \n",
    "# test\n",
    "# money_format(3510000.159897)"
   ]
  },
  {
   "cell_type": "code",
   "execution_count": null,
   "metadata": {},
   "outputs": [],
   "source": []
  }
 ],
 "metadata": {
  "kernelspec": {
   "display_name": "Python 3",
   "language": "python",
   "name": "python3"
  },
  "language_info": {
   "codemirror_mode": {
    "name": "ipython",
    "version": 3
   },
   "file_extension": ".py",
   "mimetype": "text/x-python",
   "name": "python",
   "nbconvert_exporter": "python",
   "pygments_lexer": "ipython3",
   "version": "3.7.4"
  }
 },
 "nbformat": 4,
 "nbformat_minor": 2
}
